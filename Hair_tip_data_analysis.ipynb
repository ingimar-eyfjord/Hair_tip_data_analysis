{
 "cells": [
  {
   "cell_type": "code",
   "execution_count": 108,
   "id": "1d12f297",
   "metadata": {},
   "outputs": [],
   "source": [
    "import numpy as np\n",
    "import pandas as pd\n",
    "import matplotlib.pyplot as plt\n",
    "from datetime import datetime\n",
    "\n",
    "%matplotlib inline\n",
    "\n",
    "import seaborn as sns\n",
    "\n",
    "HairCutBatch = pd.read_csv('First_batch_hair.csv')"
   ]
  },
  {
   "cell_type": "code",
   "execution_count": 109,
   "id": "9eb18b52",
   "metadata": {},
   "outputs": [
    {
     "data": {
      "text/html": [
       "<div>\n",
       "<style scoped>\n",
       "    .dataframe tbody tr th:only-of-type {\n",
       "        vertical-align: middle;\n",
       "    }\n",
       "\n",
       "    .dataframe tbody tr th {\n",
       "        vertical-align: top;\n",
       "    }\n",
       "\n",
       "    .dataframe thead th {\n",
       "        text-align: right;\n",
       "    }\n",
       "</style>\n",
       "<table border=\"1\" class=\"dataframe\">\n",
       "  <thead>\n",
       "    <tr style=\"text-align: right;\">\n",
       "      <th></th>\n",
       "      <th>Tip amount</th>\n",
       "      <th>Time</th>\n",
       "      <th>Day</th>\n",
       "      <th>Culture</th>\n",
       "      <th>Married</th>\n",
       "      <th>Age</th>\n",
       "    </tr>\n",
       "  </thead>\n",
       "  <tbody>\n",
       "    <tr>\n",
       "      <th>0</th>\n",
       "      <td>0.0</td>\n",
       "      <td>17:00</td>\n",
       "      <td>FRI</td>\n",
       "      <td>I</td>\n",
       "      <td>NM</td>\n",
       "      <td>30</td>\n",
       "    </tr>\n",
       "    <tr>\n",
       "      <th>1</th>\n",
       "      <td>1.0</td>\n",
       "      <td>14:00</td>\n",
       "      <td>TUE</td>\n",
       "      <td>E</td>\n",
       "      <td>NM</td>\n",
       "      <td>10</td>\n",
       "    </tr>\n",
       "    <tr>\n",
       "      <th>2</th>\n",
       "      <td>1.0</td>\n",
       "      <td>19:00</td>\n",
       "      <td>TUE</td>\n",
       "      <td>I</td>\n",
       "      <td>NM</td>\n",
       "      <td>35</td>\n",
       "    </tr>\n",
       "    <tr>\n",
       "      <th>3</th>\n",
       "      <td>2.0</td>\n",
       "      <td>17:00</td>\n",
       "      <td>MON</td>\n",
       "      <td>I</td>\n",
       "      <td>NM</td>\n",
       "      <td>35</td>\n",
       "    </tr>\n",
       "    <tr>\n",
       "      <th>4</th>\n",
       "      <td>2.0</td>\n",
       "      <td>12:00</td>\n",
       "      <td>FRI</td>\n",
       "      <td>M</td>\n",
       "      <td>NM</td>\n",
       "      <td>15</td>\n",
       "    </tr>\n",
       "    <tr>\n",
       "      <th>...</th>\n",
       "      <td>...</td>\n",
       "      <td>...</td>\n",
       "      <td>...</td>\n",
       "      <td>...</td>\n",
       "      <td>...</td>\n",
       "      <td>...</td>\n",
       "    </tr>\n",
       "    <tr>\n",
       "      <th>95</th>\n",
       "      <td>10.0</td>\n",
       "      <td>12:00</td>\n",
       "      <td>THU</td>\n",
       "      <td>M</td>\n",
       "      <td>NM</td>\n",
       "      <td>30</td>\n",
       "    </tr>\n",
       "    <tr>\n",
       "      <th>96</th>\n",
       "      <td>10.0</td>\n",
       "      <td>15:00</td>\n",
       "      <td>FRI</td>\n",
       "      <td>W</td>\n",
       "      <td>NM</td>\n",
       "      <td>30</td>\n",
       "    </tr>\n",
       "    <tr>\n",
       "      <th>97</th>\n",
       "      <td>10.0</td>\n",
       "      <td>13:00</td>\n",
       "      <td>SAT</td>\n",
       "      <td>W</td>\n",
       "      <td>M</td>\n",
       "      <td>35</td>\n",
       "    </tr>\n",
       "    <tr>\n",
       "      <th>98</th>\n",
       "      <td>10.0</td>\n",
       "      <td>15:00</td>\n",
       "      <td>SAT</td>\n",
       "      <td>A</td>\n",
       "      <td>NM</td>\n",
       "      <td>30</td>\n",
       "    </tr>\n",
       "    <tr>\n",
       "      <th>99</th>\n",
       "      <td>10.0</td>\n",
       "      <td>17:00</td>\n",
       "      <td>SAT</td>\n",
       "      <td>W</td>\n",
       "      <td>M</td>\n",
       "      <td>35</td>\n",
       "    </tr>\n",
       "  </tbody>\n",
       "</table>\n",
       "<p>100 rows × 6 columns</p>\n",
       "</div>"
      ],
      "text/plain": [
       "    Tip amount   Time  Day Culture Married  Age\n",
       "0          0.0  17:00  FRI       I      NM   30\n",
       "1          1.0  14:00  TUE       E      NM   10\n",
       "2          1.0  19:00  TUE       I      NM   35\n",
       "3          2.0  17:00  MON       I      NM   35\n",
       "4          2.0  12:00  FRI       M      NM   15\n",
       "..         ...    ...  ...     ...     ...  ...\n",
       "95        10.0  12:00  THU       M      NM   30\n",
       "96        10.0  15:00  FRI       W      NM   30\n",
       "97        10.0  13:00  SAT       W       M   35\n",
       "98        10.0  15:00  SAT       A      NM   30\n",
       "99        10.0  17:00  SAT       W       M   35\n",
       "\n",
       "[100 rows x 6 columns]"
      ]
     },
     "execution_count": 109,
     "metadata": {},
     "output_type": "execute_result"
    }
   ],
   "source": [
    "#Change all days to uppercase\n",
    "\n",
    "# I was trying to find a more dynamic way of doing this conversion to i.e. 13 = 1\n",
    "# HairCutBatch['Time'] = HairCutBatch.Time.apply(lambda s: '1' + str(s) if len(str(s)) == 1 else s) \n",
    "\n",
    "HairCutBatch['Time'] = HairCutBatch.Time.apply(lambda s: '13' if s == 1 else s) \n",
    "HairCutBatch['Time'] = HairCutBatch.Time.apply(lambda s: '14' if s == 2 else s) \n",
    "HairCutBatch['Time'] = HairCutBatch.Time.apply(lambda s: '15' if s == 3 else s) \n",
    "HairCutBatch['Time'] = HairCutBatch.Time.apply(lambda s: '16' if s == 4 else s) \n",
    "HairCutBatch['Time'] = HairCutBatch.Time.apply(lambda s: '17' if s == 5 else s) \n",
    "HairCutBatch['Time'] = HairCutBatch.Time.apply(lambda s: '18' if s == 6 else s) \n",
    "HairCutBatch['Time'] = HairCutBatch.Time.apply(lambda s: '19' if s == 7 else s)\n",
    "HairCutBatch['Time'] = HairCutBatch.Time.apply(lambda s: '20' if s == 8 else s) \n",
    "\n",
    "HairCutBatch['Day'] = HairCutBatch.Day.apply(lambda s: 'Tue' if s == \"Tues\" else s) \n",
    "HairCutBatch['Day'] = HairCutBatch.Day.apply(lambda s: 'Thu' if s == \"Thurs\" else s) \n",
    "HairCutBatch['Day'] = HairCutBatch.Day.apply(lambda s: 'Thu' if s == \"Thur\" else s) \n",
    "\n",
    "\n",
    "HairCutBatch['Day'] = HairCutBatch['Day'].str.upper()\n",
    "#Cannot find a way to convert partial date name string to full date object\n",
    "# HairCutBatch['Day'] = pd.to_datetime(HairCutBatch['Day'])\n",
    "HairCutBatch['Time'] = pd.to_datetime(HairCutBatch['Time'], format='%H').dt.strftime('%H:%M')\n",
    "\n",
    "HairCutBatch.head(100)"
   ]
  },
  {
   "cell_type": "code",
   "execution_count": 110,
   "id": "be72eb25",
   "metadata": {},
   "outputs": [
    {
     "name": "stdout",
     "output_type": "stream",
     "text": [
      "<class 'pandas.core.frame.DataFrame'>\n",
      "RangeIndex: 232 entries, 0 to 231\n",
      "Data columns (total 6 columns):\n",
      " #   Column      Non-Null Count  Dtype  \n",
      "---  ------      --------------  -----  \n",
      " 0   Tip amount  232 non-null    float64\n",
      " 1   Time        232 non-null    object \n",
      " 2   Day         232 non-null    object \n",
      " 3   Culture     232 non-null    object \n",
      " 4   Married     232 non-null    object \n",
      " 5   Age         232 non-null    int64  \n",
      "dtypes: float64(1), int64(1), object(4)\n",
      "memory usage: 11.0+ KB\n"
     ]
    }
   ],
   "source": [
    "HairCutBatch.info()"
   ]
  },
  {
   "cell_type": "code",
   "execution_count": 111,
   "id": "e5e5ffb2",
   "metadata": {},
   "outputs": [
    {
     "data": {
      "text/html": [
       "<div>\n",
       "<style scoped>\n",
       "    .dataframe tbody tr th:only-of-type {\n",
       "        vertical-align: middle;\n",
       "    }\n",
       "\n",
       "    .dataframe tbody tr th {\n",
       "        vertical-align: top;\n",
       "    }\n",
       "\n",
       "    .dataframe thead th {\n",
       "        text-align: right;\n",
       "    }\n",
       "</style>\n",
       "<table border=\"1\" class=\"dataframe\">\n",
       "  <thead>\n",
       "    <tr style=\"text-align: right;\">\n",
       "      <th></th>\n",
       "      <th>count</th>\n",
       "      <th>mean</th>\n",
       "      <th>std</th>\n",
       "      <th>min</th>\n",
       "      <th>25%</th>\n",
       "      <th>50%</th>\n",
       "      <th>75%</th>\n",
       "      <th>max</th>\n",
       "    </tr>\n",
       "  </thead>\n",
       "  <tbody>\n",
       "    <tr>\n",
       "      <th>Tip amount</th>\n",
       "      <td>232.0</td>\n",
       "      <td>6.612069</td>\n",
       "      <td>5.195772</td>\n",
       "      <td>0.0</td>\n",
       "      <td>4.0</td>\n",
       "      <td>5.0</td>\n",
       "      <td>7.0</td>\n",
       "      <td>40.0</td>\n",
       "    </tr>\n",
       "    <tr>\n",
       "      <th>Age</th>\n",
       "      <td>232.0</td>\n",
       "      <td>31.607759</td>\n",
       "      <td>11.354063</td>\n",
       "      <td>3.0</td>\n",
       "      <td>30.0</td>\n",
       "      <td>30.0</td>\n",
       "      <td>40.0</td>\n",
       "      <td>70.0</td>\n",
       "    </tr>\n",
       "  </tbody>\n",
       "</table>\n",
       "</div>"
      ],
      "text/plain": [
       "            count       mean        std  min   25%   50%   75%   max\n",
       "Tip amount  232.0   6.612069   5.195772  0.0   4.0   5.0   7.0  40.0\n",
       "Age         232.0  31.607759  11.354063  3.0  30.0  30.0  40.0  70.0"
      ]
     },
     "execution_count": 111,
     "metadata": {},
     "output_type": "execute_result"
    }
   ],
   "source": [
    "HairCutBatch.describe().T"
   ]
  },
  {
   "cell_type": "code",
   "execution_count": 112,
   "id": "a5ad937f",
   "metadata": {},
   "outputs": [
    {
     "data": {
      "text/html": [
       "<div>\n",
       "<style scoped>\n",
       "    .dataframe tbody tr th:only-of-type {\n",
       "        vertical-align: middle;\n",
       "    }\n",
       "\n",
       "    .dataframe tbody tr th {\n",
       "        vertical-align: top;\n",
       "    }\n",
       "\n",
       "    .dataframe thead th {\n",
       "        text-align: right;\n",
       "    }\n",
       "</style>\n",
       "<table border=\"1\" class=\"dataframe\">\n",
       "  <thead>\n",
       "    <tr style=\"text-align: right;\">\n",
       "      <th></th>\n",
       "      <th>Tip amount</th>\n",
       "      <th>Time</th>\n",
       "      <th>Day</th>\n",
       "      <th>Culture</th>\n",
       "      <th>Married</th>\n",
       "      <th>Age</th>\n",
       "    </tr>\n",
       "  </thead>\n",
       "  <tbody>\n",
       "    <tr>\n",
       "      <th>0</th>\n",
       "      <td>0.0</td>\n",
       "      <td>17:00</td>\n",
       "      <td>FRI</td>\n",
       "      <td>I</td>\n",
       "      <td>NM</td>\n",
       "      <td>30</td>\n",
       "    </tr>\n",
       "    <tr>\n",
       "      <th>1</th>\n",
       "      <td>1.0</td>\n",
       "      <td>14:00</td>\n",
       "      <td>TUE</td>\n",
       "      <td>E</td>\n",
       "      <td>NM</td>\n",
       "      <td>10</td>\n",
       "    </tr>\n",
       "    <tr>\n",
       "      <th>2</th>\n",
       "      <td>1.0</td>\n",
       "      <td>19:00</td>\n",
       "      <td>TUE</td>\n",
       "      <td>I</td>\n",
       "      <td>NM</td>\n",
       "      <td>35</td>\n",
       "    </tr>\n",
       "    <tr>\n",
       "      <th>3</th>\n",
       "      <td>2.0</td>\n",
       "      <td>17:00</td>\n",
       "      <td>MON</td>\n",
       "      <td>I</td>\n",
       "      <td>NM</td>\n",
       "      <td>35</td>\n",
       "    </tr>\n",
       "    <tr>\n",
       "      <th>4</th>\n",
       "      <td>2.0</td>\n",
       "      <td>12:00</td>\n",
       "      <td>FRI</td>\n",
       "      <td>M</td>\n",
       "      <td>NM</td>\n",
       "      <td>15</td>\n",
       "    </tr>\n",
       "  </tbody>\n",
       "</table>\n",
       "</div>"
      ],
      "text/plain": [
       "   Tip amount   Time  Day Culture Married  Age\n",
       "0         0.0  17:00  FRI       I      NM   30\n",
       "1         1.0  14:00  TUE       E      NM   10\n",
       "2         1.0  19:00  TUE       I      NM   35\n",
       "3         2.0  17:00  MON       I      NM   35\n",
       "4         2.0  12:00  FRI       M      NM   15"
      ]
     },
     "execution_count": 112,
     "metadata": {},
     "output_type": "execute_result"
    }
   ],
   "source": [
    "HairCutBatch.head()"
   ]
  },
  {
   "cell_type": "code",
   "execution_count": 113,
   "id": "027b093e",
   "metadata": {},
   "outputs": [],
   "source": [
    "HairCutBatch = HairCutBatch[HairCutBatch['Tip amount'].notnull()]"
   ]
  },
  {
   "cell_type": "code",
   "execution_count": 114,
   "id": "d0df5877",
   "metadata": {},
   "outputs": [
    {
     "data": {
      "text/plain": [
       "Married\n",
       "Kid    3.500000\n",
       "M      6.224359\n",
       "NM     6.830065\n",
       "Name: Tip amount, dtype: float64"
      ]
     },
     "execution_count": 114,
     "metadata": {},
     "output_type": "execute_result"
    }
   ],
   "source": [
    "HairCutBatch.groupby('Married')['Tip amount'].mean()"
   ]
  },
  {
   "cell_type": "markdown",
   "id": "2788671a",
   "metadata": {},
   "source": [
    "## This one is plotting the tip amount agains age of customers and culture"
   ]
  },
  {
   "cell_type": "code",
   "execution_count": 115,
   "id": "7bb97bf1",
   "metadata": {},
   "outputs": [
    {
     "name": "stderr",
     "output_type": "stream",
     "text": [
      "c:\\py-env\\aai\\lib\\site-packages\\seaborn\\categorical.py:1296: UserWarning: 18.7% of the points cannot be placed; you may want to decrease the size of the markers or use stripplot.\n",
      "  warnings.warn(msg, UserWarning)\n"
     ]
    },
    {
     "data": {
      "image/png": "[encoded data removed]",
      "text/plain": [
       "<Figure size 3331.93x360 with 9 Axes>"
      ]
     },
     "metadata": {
      "needs_background": "light"
     },
     "output_type": "display_data"
    }
   ],
   "source": [
    "with sns.plotting_context('notebook',font_scale=1.2):\n",
    "\n",
    "    ax = sns.catplot(\n",
    "        x='Married',\n",
    "        y='Age',\n",
    "        hue='Tip amount',\n",
    "        col='Culture',\n",
    "        data=HairCutBatch,\n",
    "        orient='v',\n",
    "        kind='swarm',\n",
    "    )"
   ]
  },
  {
   "cell_type": "markdown",
   "id": "09262489",
   "metadata": {},
   "source": [
    "## This one is plotting the tip amount against culture"
   ]
  },
  {
   "cell_type": "code",
   "execution_count": 116,
   "id": "750062d0",
   "metadata": {
    "scrolled": false
   },
   "outputs": [
    {
     "data": {
      "image/png": "[encoded data removed]",
      "text/plain": [
       "<Figure size 3331.93x360 with 9 Axes>"
      ]
     },
     "metadata": {
      "needs_background": "light"
     },
     "output_type": "display_data"
    }
   ],
   "source": [
    "with sns.plotting_context('notebook',font_scale=1.2):\n",
    "\n",
    "    ax = sns.catplot(\n",
    "        x='Married',\n",
    "        y='Tip amount',\n",
    "        hue='Tip amount',\n",
    "        col='Culture',\n",
    "        data=HairCutBatch,\n",
    "        orient='v',\n",
    "        kind='swarm',\n",
    "    )"
   ]
  },
  {
   "cell_type": "code",
   "execution_count": 117,
   "id": "ebdfa3fb",
   "metadata": {},
   "outputs": [
    {
     "data": {
      "image/png": "[encoded data removed]",
      "text/plain": [
       "<Figure size 864x432 with 2 Axes>"
      ]
     },
     "metadata": {
      "needs_background": "light"
     },
     "output_type": "display_data"
    }
   ],
   "source": [
    "fig, ax = plt.subplots(figsize=(12,6), nrows=1, ncols=2)\n",
    "plt.suptitle('Distribution of marriage, tip amount and culture', fontsize=16)\n",
    "\n",
    "married = [\"NM\", \"M\"]\n",
    "for i in range(2):\n",
    "    ax[i].set_title('Married = '+married[i])\n",
    "#     ax[i].set_ylim(-5,85)\n",
    "    sns.stripplot(data=HairCutBatch[HairCutBatch['Married']==f'{married[i]}'],\n",
    "                  x='Culture',\n",
    "                  y='Tip amount',\n",
    "                  hue='Tip amount',\n",
    "#                   hue_order=\"Age\",\n",
    "                  size=10,\n",
    "                  ax=ax[i])\n",
    "\n",
    "ax[1].set_ylabel(None)\n",
    "\n",
    "ax[0].legend_.remove()\n",
    "ax[1].legend_.remove()"
   ]
  },
  {
   "cell_type": "code",
   "execution_count": 118,
   "id": "a5088bb0",
   "metadata": {
    "scrolled": false
   },
   "outputs": [
    {
     "data": {
      "image/png": "[encoded data removed]",
      "text/plain": [
       "<Figure size 864x432 with 2 Axes>"
      ]
     },
     "metadata": {
      "needs_background": "light"
     },
     "output_type": "display_data"
    }
   ],
   "source": [
    "\n",
    "fig, ax = plt.subplots(figsize=(12,6), nrows=1, ncols=2)\n",
    "plt.suptitle('Distribution of marriage, tip amount and culture', fontsize=16)\n",
    "\n",
    "married = [\"NM\", \"M\"]\n",
    "for i in range(2):\n",
    "    ax[i].set_title('Married = '+married[i])\n",
    "#     ax[i].set_ylim(-5,85)\n",
    "    sns.stripplot(data=HairCutBatch[HairCutBatch['Married']==f'{married[i]}'],\n",
    "                  x='Culture',\n",
    "                  y='Age',\n",
    "                  hue='Tip amount',\n",
    "#                   hue_order=\"Age\",\n",
    "                  size=10,\n",
    "                  ax=ax[i])\n",
    "\n",
    "ax[1].set_ylabel(None)\n",
    "\n",
    "ax[0].legend_.remove()\n",
    "ax[1].legend_.remove()"
   ]
  },
  {
   "cell_type": "markdown",
   "id": "3e27b1d0",
   "metadata": {},
   "source": [
    "## Finding the highest tipping time of week"
   ]
  },
  {
   "cell_type": "code",
   "execution_count": 119,
   "id": "55ec2d8a",
   "metadata": {
    "scrolled": true
   },
   "outputs": [
    {
     "data": {
      "text/html": [
       "<div>\n",
       "<style scoped>\n",
       "    .dataframe tbody tr th:only-of-type {\n",
       "        vertical-align: middle;\n",
       "    }\n",
       "\n",
       "    .dataframe tbody tr th {\n",
       "        vertical-align: top;\n",
       "    }\n",
       "\n",
       "    .dataframe thead th {\n",
       "        text-align: right;\n",
       "    }\n",
       "</style>\n",
       "<table border=\"1\" class=\"dataframe\">\n",
       "  <thead>\n",
       "    <tr style=\"text-align: right;\">\n",
       "      <th>Time</th>\n",
       "      <th>10:00</th>\n",
       "      <th>11:00</th>\n",
       "      <th>12:00</th>\n",
       "      <th>13:00</th>\n",
       "      <th>14:00</th>\n",
       "      <th>15:00</th>\n",
       "      <th>16:00</th>\n",
       "      <th>17:00</th>\n",
       "      <th>18:00</th>\n",
       "      <th>19:00</th>\n",
       "      <th>20:00</th>\n",
       "    </tr>\n",
       "    <tr>\n",
       "      <th>Day</th>\n",
       "      <th></th>\n",
       "      <th></th>\n",
       "      <th></th>\n",
       "      <th></th>\n",
       "      <th></th>\n",
       "      <th></th>\n",
       "      <th></th>\n",
       "      <th></th>\n",
       "      <th></th>\n",
       "      <th></th>\n",
       "      <th></th>\n",
       "    </tr>\n",
       "  </thead>\n",
       "  <tbody>\n",
       "    <tr>\n",
       "      <th>MON</th>\n",
       "      <td>12.500000</td>\n",
       "      <td>4.750000</td>\n",
       "      <td>4.000000</td>\n",
       "      <td>10.500000</td>\n",
       "      <td>4.000000</td>\n",
       "      <td>4.555556</td>\n",
       "      <td>5.600000</td>\n",
       "      <td>5.333333</td>\n",
       "      <td>10.0</td>\n",
       "      <td>NaN</td>\n",
       "      <td>NaN</td>\n",
       "    </tr>\n",
       "    <tr>\n",
       "      <th>TUE</th>\n",
       "      <td>4.000000</td>\n",
       "      <td>10.333333</td>\n",
       "      <td>5.500000</td>\n",
       "      <td>5.000000</td>\n",
       "      <td>5.833333</td>\n",
       "      <td>8.857143</td>\n",
       "      <td>11.200000</td>\n",
       "      <td>5.750000</td>\n",
       "      <td>14.5</td>\n",
       "      <td>3.666667</td>\n",
       "      <td>NaN</td>\n",
       "    </tr>\n",
       "    <tr>\n",
       "      <th>WED</th>\n",
       "      <td>16.250000</td>\n",
       "      <td>6.000000</td>\n",
       "      <td>6.000000</td>\n",
       "      <td>8.200000</td>\n",
       "      <td>4.333333</td>\n",
       "      <td>10.000000</td>\n",
       "      <td>3.500000</td>\n",
       "      <td>13.000000</td>\n",
       "      <td>NaN</td>\n",
       "      <td>NaN</td>\n",
       "      <td>NaN</td>\n",
       "    </tr>\n",
       "    <tr>\n",
       "      <th>THU</th>\n",
       "      <td>6.000000</td>\n",
       "      <td>5.000000</td>\n",
       "      <td>7.000000</td>\n",
       "      <td>4.666667</td>\n",
       "      <td>4.000000</td>\n",
       "      <td>6.500000</td>\n",
       "      <td>9.666667</td>\n",
       "      <td>6.500000</td>\n",
       "      <td>5.0</td>\n",
       "      <td>3.500000</td>\n",
       "      <td>NaN</td>\n",
       "    </tr>\n",
       "    <tr>\n",
       "      <th>FRI</th>\n",
       "      <td>7.000000</td>\n",
       "      <td>6.875000</td>\n",
       "      <td>4.875000</td>\n",
       "      <td>5.357143</td>\n",
       "      <td>6.666667</td>\n",
       "      <td>6.750000</td>\n",
       "      <td>5.000000</td>\n",
       "      <td>0.000000</td>\n",
       "      <td>6.0</td>\n",
       "      <td>8.750000</td>\n",
       "      <td>5.0</td>\n",
       "    </tr>\n",
       "    <tr>\n",
       "      <th>SAT</th>\n",
       "      <td>5.666667</td>\n",
       "      <td>5.857143</td>\n",
       "      <td>5.285714</td>\n",
       "      <td>4.772727</td>\n",
       "      <td>7.571429</td>\n",
       "      <td>4.714286</td>\n",
       "      <td>8.400000</td>\n",
       "      <td>5.800000</td>\n",
       "      <td>7.0</td>\n",
       "      <td>NaN</td>\n",
       "      <td>NaN</td>\n",
       "    </tr>\n",
       "    <tr>\n",
       "      <th>SUN</th>\n",
       "      <td>6.000000</td>\n",
       "      <td>3.250000</td>\n",
       "      <td>3.000000</td>\n",
       "      <td>6.750000</td>\n",
       "      <td>10.000000</td>\n",
       "      <td>NaN</td>\n",
       "      <td>NaN</td>\n",
       "      <td>NaN</td>\n",
       "      <td>NaN</td>\n",
       "      <td>NaN</td>\n",
       "      <td>NaN</td>\n",
       "    </tr>\n",
       "  </tbody>\n",
       "</table>\n",
       "</div>"
      ],
      "text/plain": [
       "Time      10:00      11:00     12:00      13:00      14:00      15:00  \\\n",
       "Day                                                                     \n",
       "MON   12.500000   4.750000  4.000000  10.500000   4.000000   4.555556   \n",
       "TUE    4.000000  10.333333  5.500000   5.000000   5.833333   8.857143   \n",
       "WED   16.250000   6.000000  6.000000   8.200000   4.333333  10.000000   \n",
       "THU    6.000000   5.000000  7.000000   4.666667   4.000000   6.500000   \n",
       "FRI    7.000000   6.875000  4.875000   5.357143   6.666667   6.750000   \n",
       "SAT    5.666667   5.857143  5.285714   4.772727   7.571429   4.714286   \n",
       "SUN    6.000000   3.250000  3.000000   6.750000  10.000000        NaN   \n",
       "\n",
       "Time      16:00      17:00  18:00     19:00  20:00  \n",
       "Day                                                 \n",
       "MON    5.600000   5.333333   10.0       NaN    NaN  \n",
       "TUE   11.200000   5.750000   14.5  3.666667    NaN  \n",
       "WED    3.500000  13.000000    NaN       NaN    NaN  \n",
       "THU    9.666667   6.500000    5.0  3.500000    NaN  \n",
       "FRI    5.000000   0.000000    6.0  8.750000    5.0  \n",
       "SAT    8.400000   5.800000    7.0       NaN    NaN  \n",
       "SUN         NaN        NaN    NaN       NaN    NaN  "
      ]
     },
     "execution_count": 119,
     "metadata": {},
     "output_type": "execute_result"
    }
   ],
   "source": [
    "#Create pivot table before making heatmap\n",
    "HeatplotDay = pd.pivot_table(HairCutBatch, values=\"Tip amount\", index=['Day'], columns=['Time'])\n",
    "\n",
    "#Reorder days on 0 axis\n",
    "column_order = ['MON', 'TUE', 'WED', 'THU', 'FRI', 'SAT', 'SUN']\n",
    "HeatplotDay = HeatplotDay.reindex(column_order, axis=0)\n",
    "\n",
    "#View pivot table\n",
    "HeatplotDay.head(100)"
   ]
  },
  {
   "cell_type": "code",
   "execution_count": 120,
   "id": "7b17fc4e",
   "metadata": {},
   "outputs": [
    {
     "data": {
      "text/plain": [
       "<AxesSubplot:xlabel='Time', ylabel='Day'>"
      ]
     },
     "execution_count": 120,
     "metadata": {},
     "output_type": "execute_result"
    },
    {
     "data": {
      "image/png": "[encoded data removed]",
      "text/plain": [
       "<Figure size 432x288 with 2 Axes>"
      ]
     },
     "metadata": {
      "needs_background": "light"
     },
     "output_type": "display_data"
    }
   ],
   "source": [
    "sns.heatmap(HeatplotDay, cmap=\"YlGnBu\")"
   ]
  },
  {
   "cell_type": "code",
   "execution_count": 121,
   "id": "a859e3a4",
   "metadata": {},
   "outputs": [
    {
     "data": {
      "text/plain": [
       "<AxesSubplot:xlabel='Time', ylabel='Day'>"
      ]
     },
     "execution_count": 121,
     "metadata": {},
     "output_type": "execute_result"
    },
    {
     "data": {
      "image/png": "[encoded data removed]",
      "text/plain": [
       "<Figure size 432x288 with 2 Axes>"
      ]
     },
     "metadata": {
      "needs_background": "light"
     },
     "output_type": "display_data"
    }
   ],
   "source": [
    "HeatplotDay['Avarage'] = HeatplotDay.mean(axis=1).astype(float)\n",
    "# HeatplotDay.head(100)\n",
    "sns.heatmap(HeatplotDay, cmap=\"YlGnBu\")"
   ]
  },
  {
   "cell_type": "markdown",
   "id": "897bfa37",
   "metadata": {},
   "source": [
    "### The below analysis shows the amount of times a tip has been given in the entire dataset grouped by dates and hours"
   ]
  },
  {
   "cell_type": "code",
   "execution_count": 143,
   "id": "7bb09297",
   "metadata": {},
   "outputs": [
    {
     "name": "stderr",
     "output_type": "stream",
     "text": [
      "C:\\Users\\Ingimar\\AppData\\Local\\Temp/ipykernel_51276/699952328.py:2: FutureWarning: Dropping of nuisance columns in DataFrame reductions (with 'numeric_only=None') is deprecated; in a future version this will raise TypeError.  Select only valid columns before calling the reduction.\n",
      "  TotalCount['Total tip instances of day in set'] = TotalCount.sum(axis=1).astype(float)\n"
     ]
    },
    {
     "data": {
      "text/html": [
       "<div>\n",
       "<style scoped>\n",
       "    .dataframe tbody tr th:only-of-type {\n",
       "        vertical-align: middle;\n",
       "    }\n",
       "\n",
       "    .dataframe tbody tr th {\n",
       "        vertical-align: top;\n",
       "    }\n",
       "\n",
       "    .dataframe thead th {\n",
       "        text-align: right;\n",
       "    }\n",
       "</style>\n",
       "<table border=\"1\" class=\"dataframe\">\n",
       "  <thead>\n",
       "    <tr style=\"text-align: right;\">\n",
       "      <th>Time</th>\n",
       "      <th>Day</th>\n",
       "      <th>10:00</th>\n",
       "      <th>11:00</th>\n",
       "      <th>12:00</th>\n",
       "      <th>13:00</th>\n",
       "      <th>14:00</th>\n",
       "      <th>15:00</th>\n",
       "      <th>16:00</th>\n",
       "      <th>17:00</th>\n",
       "      <th>18:00</th>\n",
       "      <th>19:00</th>\n",
       "      <th>20:00</th>\n",
       "      <th>Total tip instances of day in set</th>\n",
       "    </tr>\n",
       "  </thead>\n",
       "  <tbody>\n",
       "    <tr>\n",
       "      <th>0</th>\n",
       "      <td>FRI</td>\n",
       "      <td>2.0</td>\n",
       "      <td>8.0</td>\n",
       "      <td>8.0</td>\n",
       "      <td>7.0</td>\n",
       "      <td>6.0</td>\n",
       "      <td>4.0</td>\n",
       "      <td>2.0</td>\n",
       "      <td>1.0</td>\n",
       "      <td>1.0</td>\n",
       "      <td>2.0</td>\n",
       "      <td>1.0</td>\n",
       "      <td>42.0</td>\n",
       "    </tr>\n",
       "    <tr>\n",
       "      <th>1</th>\n",
       "      <td>MON</td>\n",
       "      <td>2.0</td>\n",
       "      <td>4.0</td>\n",
       "      <td>3.0</td>\n",
       "      <td>4.0</td>\n",
       "      <td>2.0</td>\n",
       "      <td>9.0</td>\n",
       "      <td>5.0</td>\n",
       "      <td>3.0</td>\n",
       "      <td>3.0</td>\n",
       "      <td>NaN</td>\n",
       "      <td>NaN</td>\n",
       "      <td>35.0</td>\n",
       "    </tr>\n",
       "    <tr>\n",
       "      <th>2</th>\n",
       "      <td>SAT</td>\n",
       "      <td>3.0</td>\n",
       "      <td>7.0</td>\n",
       "      <td>7.0</td>\n",
       "      <td>11.0</td>\n",
       "      <td>7.0</td>\n",
       "      <td>7.0</td>\n",
       "      <td>5.0</td>\n",
       "      <td>5.0</td>\n",
       "      <td>1.0</td>\n",
       "      <td>NaN</td>\n",
       "      <td>NaN</td>\n",
       "      <td>53.0</td>\n",
       "    </tr>\n",
       "    <tr>\n",
       "      <th>3</th>\n",
       "      <td>SUN</td>\n",
       "      <td>1.0</td>\n",
       "      <td>4.0</td>\n",
       "      <td>1.0</td>\n",
       "      <td>2.0</td>\n",
       "      <td>1.0</td>\n",
       "      <td>NaN</td>\n",
       "      <td>NaN</td>\n",
       "      <td>NaN</td>\n",
       "      <td>NaN</td>\n",
       "      <td>NaN</td>\n",
       "      <td>NaN</td>\n",
       "      <td>9.0</td>\n",
       "    </tr>\n",
       "    <tr>\n",
       "      <th>4</th>\n",
       "      <td>THU</td>\n",
       "      <td>2.0</td>\n",
       "      <td>2.0</td>\n",
       "      <td>4.0</td>\n",
       "      <td>3.0</td>\n",
       "      <td>1.0</td>\n",
       "      <td>2.0</td>\n",
       "      <td>3.0</td>\n",
       "      <td>2.0</td>\n",
       "      <td>2.0</td>\n",
       "      <td>2.0</td>\n",
       "      <td>NaN</td>\n",
       "      <td>23.0</td>\n",
       "    </tr>\n",
       "    <tr>\n",
       "      <th>5</th>\n",
       "      <td>TUE</td>\n",
       "      <td>1.0</td>\n",
       "      <td>3.0</td>\n",
       "      <td>2.0</td>\n",
       "      <td>4.0</td>\n",
       "      <td>6.0</td>\n",
       "      <td>7.0</td>\n",
       "      <td>5.0</td>\n",
       "      <td>4.0</td>\n",
       "      <td>4.0</td>\n",
       "      <td>3.0</td>\n",
       "      <td>NaN</td>\n",
       "      <td>39.0</td>\n",
       "    </tr>\n",
       "    <tr>\n",
       "      <th>6</th>\n",
       "      <td>WED</td>\n",
       "      <td>4.0</td>\n",
       "      <td>7.0</td>\n",
       "      <td>5.0</td>\n",
       "      <td>5.0</td>\n",
       "      <td>3.0</td>\n",
       "      <td>3.0</td>\n",
       "      <td>2.0</td>\n",
       "      <td>2.0</td>\n",
       "      <td>NaN</td>\n",
       "      <td>NaN</td>\n",
       "      <td>NaN</td>\n",
       "      <td>31.0</td>\n",
       "    </tr>\n",
       "  </tbody>\n",
       "</table>\n",
       "</div>"
      ],
      "text/plain": [
       "Time  Day  10:00  11:00  12:00  13:00  14:00  15:00  16:00  17:00  18:00  \\\n",
       "0     FRI    2.0    8.0    8.0    7.0    6.0    4.0    2.0    1.0    1.0   \n",
       "1     MON    2.0    4.0    3.0    4.0    2.0    9.0    5.0    3.0    3.0   \n",
       "2     SAT    3.0    7.0    7.0   11.0    7.0    7.0    5.0    5.0    1.0   \n",
       "3     SUN    1.0    4.0    1.0    2.0    1.0    NaN    NaN    NaN    NaN   \n",
       "4     THU    2.0    2.0    4.0    3.0    1.0    2.0    3.0    2.0    2.0   \n",
       "5     TUE    1.0    3.0    2.0    4.0    6.0    7.0    5.0    4.0    4.0   \n",
       "6     WED    4.0    7.0    5.0    5.0    3.0    3.0    2.0    2.0    NaN   \n",
       "\n",
       "Time  19:00  20:00  Total tip instances of day in set  \n",
       "0       2.0    1.0                               42.0  \n",
       "1       NaN    NaN                               35.0  \n",
       "2       NaN    NaN                               53.0  \n",
       "3       NaN    NaN                                9.0  \n",
       "4       2.0    NaN                               23.0  \n",
       "5       3.0    NaN                               39.0  \n",
       "6       NaN    NaN                               31.0  "
      ]
     },
     "execution_count": 143,
     "metadata": {},
     "output_type": "execute_result"
    }
   ],
   "source": [
    "TotalCount = pd.pivot_table(HairCutBatch, values='Tip amount', index=['Day'], columns=['Time'], aggfunc=lambda x: sum(x.value_counts())).reset_index()\n",
    "TotalCount['Total tip instances of day in set'] = TotalCount.sum(axis=1).astype(float)\n",
    "\n",
    "TotalCount.head(100)\n"
   ]
  },
  {
   "cell_type": "code",
   "execution_count": null,
   "id": "6d8ec380",
   "metadata": {},
   "outputs": [],
   "source": [
    "sns.lineplot(data=TotalCount, x=\"Day\", y=\"Amount\")"
   ]
  },
  {
   "cell_type": "markdown",
   "id": "c9a46584",
   "metadata": {},
   "source": [
    "### The below analysis shows the sum of all tips given in the entire dataset grouped by dates and hours"
   ]
  },
  {
   "cell_type": "code",
   "execution_count": 142,
   "id": "965bdff9",
   "metadata": {
    "scrolled": true
   },
   "outputs": [
    {
     "name": "stderr",
     "output_type": "stream",
     "text": [
      "C:\\Users\\Ingimar\\AppData\\Local\\Temp/ipykernel_51276/2593270992.py:4: FutureWarning: Dropping of nuisance columns in DataFrame reductions (with 'numeric_only=None') is deprecated; in a future version this will raise TypeError.  Select only valid columns before calling the reduction.\n",
      "  TotalSum['Amount'] = TotalSum.sum(axis=1).astype(float)\n"
     ]
    },
    {
     "data": {
      "text/html": [
       "<div>\n",
       "<style scoped>\n",
       "    .dataframe tbody tr th:only-of-type {\n",
       "        vertical-align: middle;\n",
       "    }\n",
       "\n",
       "    .dataframe tbody tr th {\n",
       "        vertical-align: top;\n",
       "    }\n",
       "\n",
       "    .dataframe thead th {\n",
       "        text-align: right;\n",
       "    }\n",
       "</style>\n",
       "<table border=\"1\" class=\"dataframe\">\n",
       "  <thead>\n",
       "    <tr style=\"text-align: right;\">\n",
       "      <th>Time</th>\n",
       "      <th>Day</th>\n",
       "      <th>10:00</th>\n",
       "      <th>11:00</th>\n",
       "      <th>12:00</th>\n",
       "      <th>13:00</th>\n",
       "      <th>14:00</th>\n",
       "      <th>15:00</th>\n",
       "      <th>16:00</th>\n",
       "      <th>17:00</th>\n",
       "      <th>18:00</th>\n",
       "      <th>19:00</th>\n",
       "      <th>20:00</th>\n",
       "      <th>Amount</th>\n",
       "    </tr>\n",
       "  </thead>\n",
       "  <tbody>\n",
       "    <tr>\n",
       "      <th>0</th>\n",
       "      <td>FRI</td>\n",
       "      <td>14.0</td>\n",
       "      <td>55.0</td>\n",
       "      <td>39.0</td>\n",
       "      <td>37.5</td>\n",
       "      <td>40.0</td>\n",
       "      <td>27.0</td>\n",
       "      <td>10.0</td>\n",
       "      <td>0.0</td>\n",
       "      <td>6.0</td>\n",
       "      <td>17.5</td>\n",
       "      <td>5.0</td>\n",
       "      <td>251.0</td>\n",
       "    </tr>\n",
       "    <tr>\n",
       "      <th>1</th>\n",
       "      <td>MON</td>\n",
       "      <td>25.0</td>\n",
       "      <td>19.0</td>\n",
       "      <td>12.0</td>\n",
       "      <td>42.0</td>\n",
       "      <td>8.0</td>\n",
       "      <td>41.0</td>\n",
       "      <td>28.0</td>\n",
       "      <td>16.0</td>\n",
       "      <td>30.0</td>\n",
       "      <td>NaN</td>\n",
       "      <td>NaN</td>\n",
       "      <td>221.0</td>\n",
       "    </tr>\n",
       "    <tr>\n",
       "      <th>2</th>\n",
       "      <td>SAT</td>\n",
       "      <td>17.0</td>\n",
       "      <td>41.0</td>\n",
       "      <td>37.0</td>\n",
       "      <td>52.5</td>\n",
       "      <td>53.0</td>\n",
       "      <td>33.0</td>\n",
       "      <td>42.0</td>\n",
       "      <td>29.0</td>\n",
       "      <td>7.0</td>\n",
       "      <td>NaN</td>\n",
       "      <td>NaN</td>\n",
       "      <td>311.5</td>\n",
       "    </tr>\n",
       "    <tr>\n",
       "      <th>3</th>\n",
       "      <td>SUN</td>\n",
       "      <td>6.0</td>\n",
       "      <td>13.0</td>\n",
       "      <td>3.0</td>\n",
       "      <td>13.5</td>\n",
       "      <td>10.0</td>\n",
       "      <td>NaN</td>\n",
       "      <td>NaN</td>\n",
       "      <td>NaN</td>\n",
       "      <td>NaN</td>\n",
       "      <td>NaN</td>\n",
       "      <td>NaN</td>\n",
       "      <td>45.5</td>\n",
       "    </tr>\n",
       "    <tr>\n",
       "      <th>4</th>\n",
       "      <td>THU</td>\n",
       "      <td>12.0</td>\n",
       "      <td>10.0</td>\n",
       "      <td>28.0</td>\n",
       "      <td>14.0</td>\n",
       "      <td>4.0</td>\n",
       "      <td>13.0</td>\n",
       "      <td>29.0</td>\n",
       "      <td>13.0</td>\n",
       "      <td>10.0</td>\n",
       "      <td>7.0</td>\n",
       "      <td>NaN</td>\n",
       "      <td>140.0</td>\n",
       "    </tr>\n",
       "    <tr>\n",
       "      <th>5</th>\n",
       "      <td>TUE</td>\n",
       "      <td>4.0</td>\n",
       "      <td>31.0</td>\n",
       "      <td>11.0</td>\n",
       "      <td>20.0</td>\n",
       "      <td>35.0</td>\n",
       "      <td>62.0</td>\n",
       "      <td>56.0</td>\n",
       "      <td>23.0</td>\n",
       "      <td>58.0</td>\n",
       "      <td>11.0</td>\n",
       "      <td>NaN</td>\n",
       "      <td>311.0</td>\n",
       "    </tr>\n",
       "    <tr>\n",
       "      <th>6</th>\n",
       "      <td>WED</td>\n",
       "      <td>65.0</td>\n",
       "      <td>42.0</td>\n",
       "      <td>30.0</td>\n",
       "      <td>41.0</td>\n",
       "      <td>13.0</td>\n",
       "      <td>30.0</td>\n",
       "      <td>7.0</td>\n",
       "      <td>26.0</td>\n",
       "      <td>NaN</td>\n",
       "      <td>NaN</td>\n",
       "      <td>NaN</td>\n",
       "      <td>254.0</td>\n",
       "    </tr>\n",
       "  </tbody>\n",
       "</table>\n",
       "</div>"
      ],
      "text/plain": [
       "Time  Day  10:00  11:00  12:00  13:00  14:00  15:00  16:00  17:00  18:00  \\\n",
       "0     FRI   14.0   55.0   39.0   37.5   40.0   27.0   10.0    0.0    6.0   \n",
       "1     MON   25.0   19.0   12.0   42.0    8.0   41.0   28.0   16.0   30.0   \n",
       "2     SAT   17.0   41.0   37.0   52.5   53.0   33.0   42.0   29.0    7.0   \n",
       "3     SUN    6.0   13.0    3.0   13.5   10.0    NaN    NaN    NaN    NaN   \n",
       "4     THU   12.0   10.0   28.0   14.0    4.0   13.0   29.0   13.0   10.0   \n",
       "5     TUE    4.0   31.0   11.0   20.0   35.0   62.0   56.0   23.0   58.0   \n",
       "6     WED   65.0   42.0   30.0   41.0   13.0   30.0    7.0   26.0    NaN   \n",
       "\n",
       "Time  19:00  20:00  Amount  \n",
       "0      17.5    5.0   251.0  \n",
       "1       NaN    NaN   221.0  \n",
       "2       NaN    NaN   311.5  \n",
       "3       NaN    NaN    45.5  \n",
       "4       7.0    NaN   140.0  \n",
       "5      11.0    NaN   311.0  \n",
       "6       NaN    NaN   254.0  "
      ]
     },
     "execution_count": 142,
     "metadata": {},
     "output_type": "execute_result"
    }
   ],
   "source": [
    "#Create pivot table before making regression\n",
    "#Here I want to find regression of the number of times a tip is given between the day and time\n",
    "TotalSum = pd.pivot_table(HairCutBatch, values='Tip amount', aggfunc=np.sum, index=['Day'], columns=['Time']).reset_index()\n",
    "TotalSum['Amount'] = TotalSum.sum(axis=1).astype(float)\n",
    "TotalSum.head(100)\n"
   ]
  },
  {
   "cell_type": "markdown",
   "id": "25e7f8ac",
   "metadata": {},
   "source": [
    "## Linear plot of Total sum data above"
   ]
  },
  {
   "cell_type": "code",
   "execution_count": 147,
   "id": "80b4bd03",
   "metadata": {},
   "outputs": [
    {
     "data": {
      "text/plain": [
       "<AxesSubplot:xlabel='Day', ylabel='Amount'>"
      ]
     },
     "execution_count": 147,
     "metadata": {},
     "output_type": "execute_result"
    },
    {
     "data": {
      "image/png": "[encoded data removed]",
      "text/plain": [
       "<Figure size 432x288 with 1 Axes>"
      ]
     },
     "metadata": {
      "needs_background": "light"
     },
     "output_type": "display_data"
    }
   ],
   "source": [
    "sns.lineplot(data=TotalSum, x=\"Day\", y=\"Amount\")"
   ]
  },
  {
   "cell_type": "markdown",
   "id": "965af5e3",
   "metadata": {},
   "source": [
    "### The below analysis shows the mean of all tips given in the entire dataset grouped by dates and hours"
   ]
  },
  {
   "cell_type": "code",
   "execution_count": 146,
   "id": "432ebeb4",
   "metadata": {},
   "outputs": [
    {
     "name": "stderr",
     "output_type": "stream",
     "text": [
      "C:\\Users\\Ingimar\\AppData\\Local\\Temp/ipykernel_51276/3365836393.py:4: FutureWarning: Dropping of nuisance columns in DataFrame reductions (with 'numeric_only=None') is deprecated; in a future version this will raise TypeError.  Select only valid columns before calling the reduction.\n",
      "  TotalMean['Amount'] = TotalMean.mean(axis=1).astype(float)\n"
     ]
    },
    {
     "data": {
      "text/html": [
       "<div>\n",
       "<style scoped>\n",
       "    .dataframe tbody tr th:only-of-type {\n",
       "        vertical-align: middle;\n",
       "    }\n",
       "\n",
       "    .dataframe tbody tr th {\n",
       "        vertical-align: top;\n",
       "    }\n",
       "\n",
       "    .dataframe thead th {\n",
       "        text-align: right;\n",
       "    }\n",
       "</style>\n",
       "<table border=\"1\" class=\"dataframe\">\n",
       "  <thead>\n",
       "    <tr style=\"text-align: right;\">\n",
       "      <th>Time</th>\n",
       "      <th>Day</th>\n",
       "      <th>10:00</th>\n",
       "      <th>11:00</th>\n",
       "      <th>12:00</th>\n",
       "      <th>13:00</th>\n",
       "      <th>14:00</th>\n",
       "      <th>15:00</th>\n",
       "      <th>16:00</th>\n",
       "      <th>17:00</th>\n",
       "      <th>18:00</th>\n",
       "      <th>19:00</th>\n",
       "      <th>20:00</th>\n",
       "      <th>Amount</th>\n",
       "    </tr>\n",
       "  </thead>\n",
       "  <tbody>\n",
       "    <tr>\n",
       "      <th>0</th>\n",
       "      <td>FRI</td>\n",
       "      <td>7.000000</td>\n",
       "      <td>6.875000</td>\n",
       "      <td>4.875000</td>\n",
       "      <td>5.357143</td>\n",
       "      <td>6.666667</td>\n",
       "      <td>6.750000</td>\n",
       "      <td>5.000000</td>\n",
       "      <td>0.000000</td>\n",
       "      <td>6.0</td>\n",
       "      <td>8.750000</td>\n",
       "      <td>5.0</td>\n",
       "      <td>5.661255</td>\n",
       "    </tr>\n",
       "    <tr>\n",
       "      <th>1</th>\n",
       "      <td>MON</td>\n",
       "      <td>12.500000</td>\n",
       "      <td>4.750000</td>\n",
       "      <td>4.000000</td>\n",
       "      <td>10.500000</td>\n",
       "      <td>4.000000</td>\n",
       "      <td>4.555556</td>\n",
       "      <td>5.600000</td>\n",
       "      <td>5.333333</td>\n",
       "      <td>10.0</td>\n",
       "      <td>NaN</td>\n",
       "      <td>NaN</td>\n",
       "      <td>6.804321</td>\n",
       "    </tr>\n",
       "    <tr>\n",
       "      <th>2</th>\n",
       "      <td>SAT</td>\n",
       "      <td>5.666667</td>\n",
       "      <td>5.857143</td>\n",
       "      <td>5.285714</td>\n",
       "      <td>4.772727</td>\n",
       "      <td>7.571429</td>\n",
       "      <td>4.714286</td>\n",
       "      <td>8.400000</td>\n",
       "      <td>5.800000</td>\n",
       "      <td>7.0</td>\n",
       "      <td>NaN</td>\n",
       "      <td>NaN</td>\n",
       "      <td>6.118663</td>\n",
       "    </tr>\n",
       "    <tr>\n",
       "      <th>3</th>\n",
       "      <td>SUN</td>\n",
       "      <td>6.000000</td>\n",
       "      <td>3.250000</td>\n",
       "      <td>3.000000</td>\n",
       "      <td>6.750000</td>\n",
       "      <td>10.000000</td>\n",
       "      <td>NaN</td>\n",
       "      <td>NaN</td>\n",
       "      <td>NaN</td>\n",
       "      <td>NaN</td>\n",
       "      <td>NaN</td>\n",
       "      <td>NaN</td>\n",
       "      <td>5.800000</td>\n",
       "    </tr>\n",
       "    <tr>\n",
       "      <th>4</th>\n",
       "      <td>THU</td>\n",
       "      <td>6.000000</td>\n",
       "      <td>5.000000</td>\n",
       "      <td>7.000000</td>\n",
       "      <td>4.666667</td>\n",
       "      <td>4.000000</td>\n",
       "      <td>6.500000</td>\n",
       "      <td>9.666667</td>\n",
       "      <td>6.500000</td>\n",
       "      <td>5.0</td>\n",
       "      <td>3.500000</td>\n",
       "      <td>NaN</td>\n",
       "      <td>5.783333</td>\n",
       "    </tr>\n",
       "    <tr>\n",
       "      <th>5</th>\n",
       "      <td>TUE</td>\n",
       "      <td>4.000000</td>\n",
       "      <td>10.333333</td>\n",
       "      <td>5.500000</td>\n",
       "      <td>5.000000</td>\n",
       "      <td>5.833333</td>\n",
       "      <td>8.857143</td>\n",
       "      <td>11.200000</td>\n",
       "      <td>5.750000</td>\n",
       "      <td>14.5</td>\n",
       "      <td>3.666667</td>\n",
       "      <td>NaN</td>\n",
       "      <td>7.464048</td>\n",
       "    </tr>\n",
       "    <tr>\n",
       "      <th>6</th>\n",
       "      <td>WED</td>\n",
       "      <td>16.250000</td>\n",
       "      <td>6.000000</td>\n",
       "      <td>6.000000</td>\n",
       "      <td>8.200000</td>\n",
       "      <td>4.333333</td>\n",
       "      <td>10.000000</td>\n",
       "      <td>3.500000</td>\n",
       "      <td>13.000000</td>\n",
       "      <td>NaN</td>\n",
       "      <td>NaN</td>\n",
       "      <td>NaN</td>\n",
       "      <td>8.410417</td>\n",
       "    </tr>\n",
       "  </tbody>\n",
       "</table>\n",
       "</div>"
      ],
      "text/plain": [
       "Time  Day      10:00      11:00     12:00      13:00      14:00      15:00  \\\n",
       "0     FRI   7.000000   6.875000  4.875000   5.357143   6.666667   6.750000   \n",
       "1     MON  12.500000   4.750000  4.000000  10.500000   4.000000   4.555556   \n",
       "2     SAT   5.666667   5.857143  5.285714   4.772727   7.571429   4.714286   \n",
       "3     SUN   6.000000   3.250000  3.000000   6.750000  10.000000        NaN   \n",
       "4     THU   6.000000   5.000000  7.000000   4.666667   4.000000   6.500000   \n",
       "5     TUE   4.000000  10.333333  5.500000   5.000000   5.833333   8.857143   \n",
       "6     WED  16.250000   6.000000  6.000000   8.200000   4.333333  10.000000   \n",
       "\n",
       "Time      16:00      17:00  18:00     19:00  20:00    Amount  \n",
       "0      5.000000   0.000000    6.0  8.750000    5.0  5.661255  \n",
       "1      5.600000   5.333333   10.0       NaN    NaN  6.804321  \n",
       "2      8.400000   5.800000    7.0       NaN    NaN  6.118663  \n",
       "3           NaN        NaN    NaN       NaN    NaN  5.800000  \n",
       "4      9.666667   6.500000    5.0  3.500000    NaN  5.783333  \n",
       "5     11.200000   5.750000   14.5  3.666667    NaN  7.464048  \n",
       "6      3.500000  13.000000    NaN       NaN    NaN  8.410417  "
      ]
     },
     "execution_count": 146,
     "metadata": {},
     "output_type": "execute_result"
    }
   ],
   "source": [
    "#Create pivot table before making regression\n",
    "#Here I want to find regression of the number of times a tip is given between the day and time\n",
    "TotalMean = pd.pivot_table(HairCutBatch, values='Tip amount', aggfunc=np.mean, index=['Day'], columns=['Time']).reset_index()\n",
    "TotalMean['Amount'] = TotalMean.mean(axis=1).astype(float)\n",
    "TotalMean.head(100)"
   ]
  },
  {
   "cell_type": "markdown",
   "id": "2c707bfb",
   "metadata": {},
   "source": [
    "## Linear plot of mean data above"
   ]
  },
  {
   "cell_type": "code",
   "execution_count": 148,
   "id": "54da15c2",
   "metadata": {},
   "outputs": [
    {
     "data": {
      "text/plain": [
       "<AxesSubplot:xlabel='Day', ylabel='Amount'>"
      ]
     },
     "execution_count": 148,
     "metadata": {},
     "output_type": "execute_result"
    },
    {
     "data": {
      "image/png": "[encoded data removed]",
      "text/plain": [
       "<Figure size 432x288 with 1 Axes>"
      ]
     },
     "metadata": {
      "needs_background": "light"
     },
     "output_type": "display_data"
    }
   ],
   "source": [
    "sns.lineplot(data=TotalMean, x=\"Day\", y=\"Amount\")"
   ]
  },
  {
   "cell_type": "code",
   "execution_count": null,
   "id": "e09480cd",
   "metadata": {},
   "outputs": [],
   "source": []
  },
  {
   "cell_type": "markdown",
   "id": "b2286f12",
   "metadata": {},
   "source": [
    "#### As seen here, this linear regression is not telling us anything usefull, in order for it to work we would need two Interval data type points which effect each other for it to make sense."
   ]
  },
  {
   "cell_type": "code",
   "execution_count": 99,
   "id": "87526447",
   "metadata": {},
   "outputs": [],
   "source": [
    "# sns.regplot(x='Date number', y=\"Amount\", data=Regression);"
   ]
  }
 ],
 "metadata": {
  "kernelspec": {
   "display_name": "Python 3 (ipykernel)",
   "language": "python",
   "name": "python3"
  },
  "language_info": {
   "codemirror_mode": {
    "name": "ipython",
    "version": 3
   },
   "file_extension": ".py",
   "mimetype": "text/x-python",
   "name": "python",
   "nbconvert_exporter": "python",
   "pygments_lexer": "ipython3",
   "version": "3.9.7"
  }
 },
 "nbformat": 4,
 "nbformat_minor": 5
}
